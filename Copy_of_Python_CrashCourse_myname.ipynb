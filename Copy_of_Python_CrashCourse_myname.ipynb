{
  "nbformat": 4,
  "nbformat_minor": 0,
  "metadata": {
    "colab": {
      "provenance": [],
      "toc_visible": true,
      "include_colab_link": true
    },
    "kernelspec": {
      "name": "python3",
      "display_name": "Python 3"
    },
    "language_info": {
      "name": "python"
    }
  },
  "cells": [
    {
      "cell_type": "markdown",
      "metadata": {
        "id": "view-in-github",
        "colab_type": "text"
      },
      "source": [
        "<a href=\"https://colab.research.google.com/github/hsnhafsah/FormSubmit/blob/main/Copy_of_Python_CrashCourse_myname.ipynb\" target=\"_parent\"><img src=\"https://colab.research.google.com/assets/colab-badge.svg\" alt=\"Open In Colab\"/></a>"
      ]
    },
    {
      "cell_type": "markdown",
      "source": [
        "# **Hello World**"
      ],
      "metadata": {
        "id": "FO7vWE3iknoD"
      }
    },
    {
      "cell_type": "code",
      "source": [
        "#This is my code snippet\n",
        "\n",
        "def HelloWord():\n",
        "  print(\"Hello word\")\n",
        "\n",
        "\n",
        "HelloWord()"
      ],
      "metadata": {
        "id": "RD1eOEezk3Uw",
        "colab": {
          "base_uri": "https://localhost:8080/"
        },
        "outputId": "0ff0d195-3363-4056-dca7-9958c8b443e8"
      },
      "execution_count": null,
      "outputs": [
        {
          "output_type": "stream",
          "name": "stdout",
          "text": [
            "Hello word\n"
          ]
        }
      ]
    },
    {
      "cell_type": "markdown",
      "source": [
        "Three take aways from this area of learning using python:\n",
        "\n",
        "\n",
        "*   Takeaway 1\n",
        "*   Takeaway 2\n",
        "\n",
        "\n",
        "\n",
        "\n",
        "\n"
      ],
      "metadata": {
        "id": "6Wle7cHKlNfc"
      }
    },
    {
      "cell_type": "markdown",
      "source": [
        "# **Control Flow**"
      ],
      "metadata": {
        "id": "JAbH6ltgl_V4"
      }
    },
    {
      "cell_type": "code",
      "source": [
        "#This is my code snippet\n",
        "def HelloWord():\n",
        "  print(\"Hello word\")"
      ],
      "metadata": {
        "id": "5EKkU0BCmIGe"
      },
      "execution_count": null,
      "outputs": []
    },
    {
      "cell_type": "markdown",
      "source": [
        "Three take aways from this area of learning using python:\n",
        "\n",
        "\n",
        "*   Takeaway 1\n",
        "*   Takeaway 2"
      ],
      "metadata": {
        "id": "GyTbpRUjmQE8"
      }
    }
  ]
}